{
  "cells": [
    {
      "cell_type": "markdown",
      "metadata": {
        "id": "GenP0MSuADab"
      },
      "source": [
        "KARUME DANIEL\n",
        "\n",
        "SCT211-0072/2022\n",
        "\n",
        "Bsc. COMPUTER SCIENCE"
      ]
    },
    {
      "cell_type": "markdown",
      "metadata": {
        "id": "om4Ck4it-7sK"
      },
      "source": [
        "# 1. <u>THE VOLUME OF A SPHERE</u>\n",
        "\n",
        "\n",
        "- The volume of a sphere is computed mathemtically using the formula defined below:\n",
        "\n",
        "$$V = \\frac{4}{3}\\pi r^3$$\n",
        "\n",
        "- Where $\\pi$ is equal to 3.14159... and $r$ is the radius of the sphere\n",
        "- The snippets of Python code below demonstrate how the volume of a sphere can be computed programatically."
      ]
    },
    {
      "cell_type": "code",
      "execution_count": 4,
      "metadata": {
        "id": "VwY5vSWVFF_1"
      },
      "outputs": [],
      "source": [
        "# Defining a constant to hold the value of PI\n",
        "PI = 3.14159"
      ]
    },
    {
      "cell_type": "code",
      "execution_count": 5,
      "metadata": {
        "colab": {
          "base_uri": "https://localhost:8080/",
          "height": 0
        },
        "id": "GXEOzjVu2OIr",
        "outputId": "18b20fe0-8c44-496c-dd03-bba412fe52cf"
      },
      "outputs": [
        {
          "name": "stdout",
          "output_type": "stream",
          "text": [
            "Enter the radius of a sphere: 7\n"
          ]
        }
      ],
      "source": [
        "# Get the radius of the sphere by prompting the user\n",
        "radius_of_sphere = float(input(\"Enter the radius of a sphere: \"))"
      ]
    },
    {
      "cell_type": "code",
      "execution_count": 6,
      "metadata": {
        "colab": {
          "base_uri": "https://localhost:8080/",
          "height": 0
        },
        "id": "0IhYpK5a2k8G",
        "outputId": "d0bc527e-cf56-4544-8239-870de9d49c69"
      },
      "outputs": [
        {
          "name": "stdout",
          "output_type": "stream",
          "text": [
            "Sphere volume: 1436.75\n"
          ]
        }
      ],
      "source": [
        "# Compute the volume of the sphere\n",
        "volume_of_sphere = 4 / 3 * (PI * radius_of_sphere ** 3)\n",
        "print(f\"Sphere volume: {volume_of_sphere:.2f}\")"
      ]
    },
    {
      "cell_type": "markdown",
      "metadata": {
        "id": "36Cf-GlICKpb"
      },
      "source": [
        "# 2. <u>COMPUTING COMPOUND INTEREST</u>\n",
        "\n",
        "\n",
        "- Compound interest is calculated using the formula provided below:\n",
        "\n",
        "$$A = P\\left(1 + \\frac{r}{n}\\right)^{nt}$$\n",
        "\n",
        "- Using this formula, it is possible to compute compound interest using a Python script. This is demonstrated in the code below."
      ]
    },
    {
      "cell_type": "code",
      "execution_count": 7,
      "metadata": {
        "colab": {
          "base_uri": "https://localhost:8080/",
          "height": 0
        },
        "id": "OqvsEGnSDmuw",
        "outputId": "306e46b4-c07d-4635-98d0-6e32f5f43808"
      },
      "outputs": [
        {
          "name": "stdout",
          "output_type": "stream",
          "text": [
            "Enter the principal amount: 100000\n",
            "Enter the annual interest rate (as a decimal): 0.12\n",
            "Enter the number of times interest is compounded per year: 1\n",
            "Enter the number of years: 5\n"
          ]
        }
      ],
      "source": [
        "def get_compound_interest_inputs():\n",
        "    \"\"\"\n",
        "    Prompts the user for the inputs needed to calculate compound interest.\n",
        "\n",
        "    Returns:\n",
        "      A tuple containing the principal amount, annual interest rate, number of\n",
        "      times interest is compounded per year, and number of years.\n",
        "    \"\"\"\n",
        "\n",
        "    principal = float(input(\"Enter the principal amount: \"))\n",
        "    rate = float(input(\"Enter the annual interest rate (as a decimal): \"))\n",
        "    times_compounded = int(input(\"Enter the number of times interest is compounded per year: \"))\n",
        "    years = int(input(\"Enter the number of years: \"))\n",
        "\n",
        "    return principal, rate, times_compounded, years\n",
        "\n",
        "# Call the function to prompt the user for input\n",
        "principal, rate, times_compounded, years = get_compound_interest_inputs()\n"
      ]
    },
    {
      "cell_type": "code",
      "execution_count": 8,
      "metadata": {
        "colab": {
          "base_uri": "https://localhost:8080/",
          "height": 0
        },
        "id": "HaHB4ICRGLRb",
        "outputId": "a291aaf4-d52d-421c-a36a-571d79001497"
      },
      "outputs": [
        {
          "name": "stdout",
          "output_type": "stream",
          "text": [
            "Future value after 5 years: 176234.17\n"
          ]
        }
      ],
      "source": [
        "def compound_interest(principal, rate, times_compounded, years):\n",
        "    \"\"\"\n",
        "    Calculates the compound interest earned on a principal amount.\n",
        "\n",
        "    Args:\n",
        "      principal: The initial amount invested (float).\n",
        "      rate: The annual interest rate (float).\n",
        "      times_compounded: The number of times interest is compounded\n",
        "       per year (integer).\n",
        "      years: The number of years the money is invested (integer).\n",
        "\n",
        "    Returns:\n",
        "      The future value of the investment, including interest (float).\n",
        "    \"\"\"\n",
        "\n",
        "    # Calculate the annual growth factor.\n",
        "    growth_factor = 1 + (rate / times_compounded)\n",
        "\n",
        "    # Calculate the future value.\n",
        "    future_value = principal * (growth_factor ** (times_compounded * years))\n",
        "\n",
        "    return future_value\n",
        "\n",
        "# Call the function that computes the compound interest\n",
        "future_value = compound_interest(principal, rate, times_compounded, years)\n",
        "\n",
        "# Output the compound interest\n",
        "print(f\"Future value after {years} years: {future_value:.2f}\")\n"
      ]
    },
    {
      "cell_type": "markdown",
      "metadata": {
        "id": "nAO_FwZrHr8z"
      },
      "source": [
        "# 3. <u>ASCII CAT</u>\n",
        "\n",
        "- Below is a Python script that prints out a cat using ASCII characters."
      ]
    },
    {
      "cell_type": "code",
      "execution_count": null,
      "metadata": {
        "colab": {
          "base_uri": "https://localhost:8080/"
        },
        "id": "yPn4rEt0KoNz",
        "outputId": "ae4ec83e-9481-4bbd-fc89-3566dd937963"
      },
      "outputs": [
        {
          "name": "stdout",
          "output_type": "stream",
          "text": [
            "\n",
            "  |\\_/|\n",
            " / @ @ \\\n",
            "( > º < )\n",
            " `>>x<<´\n",
            " /  O  \\\n",
            "\n"
          ]
        }
      ],
      "source": [
        "print(r\"\"\"\n",
        "  |\\_/|\n",
        " / @ @ \\\n",
        "( > º < )\n",
        " `>>x<<´\n",
        " /  O  \\\n",
        "\"\"\")"
      ]
    },
    {
      "cell_type": "markdown",
      "metadata": {
        "id": "QLuHzzVrNQ5H"
      },
      "source": [
        "# 4. <u>SOLVING A SYSTEM OF EQUATIONS USING GAUSS JORDAN ELIMINATION</u>\n",
        "\n",
        "- The system of equations below can be solved using the Gauss Jordan Elimination technique. This is demonstrated in a step wise manner below.\n",
        "\n",
        "\n",
        "**System of Equations:**\n",
        "\\begin{align*}\n",
        "x_{1} + 2x_{2} - x_{3} &= -2 \\\\\n",
        "2x_{1} + 7x_{2} - 8x_{3} &= -16 \\\\\n",
        "-2x_{2} + 2x_{3} &= 2 \\\\\n",
        "\\end{align*}\n",
        "\n",
        "\n",
        "**Augmented Matrix:**\n",
        "\\begin{bmatrix}\n",
        "1 & 2 & -1 & | & -2 \\\\\n",
        "2 & 7 & -8 & | & -16 \\\\\n",
        "0 & -2 & 2 & | & 2 \\\\\n",
        "\\end{bmatrix}\n",
        "\n",
        "\n",
        "**Step 1:**\n",
        "Subtract 2 times the first row from the second row:\n",
        "\\begin{bmatrix}\n",
        "1 & 2 & -1 & | & -2 \\\\\n",
        "0 & 3 & -6 & | & -12 \\\\\n",
        "0 & -2 & 2 & | & 2 \\\\\n",
        "\\end{bmatrix}\n",
        "\n",
        "\n",
        "**Step 2:**\n",
        "Add 3 times the third row to twice the second row:\n",
        "\\begin{bmatrix}\n",
        "1 & 2 & -1 & | & -2 \\\\\n",
        "0 & 3 & -6 & | & -12 \\\\\n",
        "0 & 0 & -6 & | & -18 \\\\\n",
        "\\end{bmatrix}\n",
        "\n",
        "**Step 3:**\n",
        "Subtract the third row from 6 times the first row:\n",
        "\\begin{bmatrix}\n",
        "6 & 12 & 0 & | & 6 \\\\\n",
        "0 & 3 & -6 & | & -12 \\\\\n",
        "0 & 0 & -6 & | & -18 \\\\\n",
        "\\end{bmatrix}\n",
        "\n",
        "\n",
        "**Step 4:**\n",
        "Subtract the third row from the second row:\n",
        "\\begin{bmatrix}\n",
        "6 & 12 & 0 & | & 6 \\\\\n",
        "0 & 3 & 0 & | & 6 \\\\\n",
        "0 & 0 & -6 & | & -18 \\\\\n",
        "\\end{bmatrix}\n",
        "\n",
        "**Step 5:**\n",
        "Subtract 4 times the second row from the first row:\n",
        "\\begin{bmatrix}\n",
        "6 & 0 & 0 & | & -18 \\\\\n",
        "0 & 3 & 0 & | & 6 \\\\\n",
        "0 & 0 & -6 & | & -18 \\\\\n",
        "\\end{bmatrix}\n",
        "\n",
        "\n",
        "**Step 6:**\n",
        "Multiply:\n",
        "- The first row by $\\frac{1}{6}$\n",
        "- The second row by $\\frac{1}{3}$\n",
        "- The third row by $-\\frac{1}{6}$\n",
        "\n",
        "\\begin{bmatrix}\n",
        "1 & 0 & 0 & | & -3 \\\\\n",
        "0 & 1 & 0 & | & 2 \\\\\n",
        "0 & 0 & 1 & | & 3 \\\\\n",
        "\\end{bmatrix}\n",
        "\n",
        "**Solution:**\n",
        "\\begin{align*}\n",
        "x_{1} &= -3 \\\\\n",
        "x_{2} &= 2 \\\\\n",
        "x_{3} &= 3\n",
        "\\end{align*}"
      ]
    },
    {
      "cell_type": "markdown",
      "metadata": {
        "id": "tWrvYuKrW7SL"
      },
      "source": [
        "Below is an implementation of the Gauss Jordan Elimination Technique using Python's numpy module."
      ]
    },
    {
      "cell_type": "code",
      "execution_count": 9,
      "metadata": {
        "id": "9R6rMNqUZgqQ"
      },
      "outputs": [],
      "source": [
        "# Import numpy\n",
        "import numpy as np\n"
      ]
    },
    {
      "cell_type": "code",
      "execution_count": 10,
      "metadata": {
        "id": "uYY8oZzEWVFm"
      },
      "outputs": [],
      "source": [
        "# Define the coefficient matrix and the constant vector\n",
        "A = np.array([[1, 2, -1],\n",
        "              [2, 7, -8],\n",
        "              [0, -2, 2]])\n",
        "b = np.array([-2, -16, 2])"
      ]
    },
    {
      "cell_type": "code",
      "execution_count": 11,
      "metadata": {
        "id": "uJjvrsySWc0M"
      },
      "outputs": [],
      "source": [
        "# Combine the coefficient matrix and the constant vector into an augmented matrix\n",
        "augmented_matrix = np.column_stack((A, b))"
      ]
    },
    {
      "cell_type": "code",
      "execution_count": 12,
      "metadata": {
        "id": "FqXWdp4yWkGZ"
      },
      "outputs": [],
      "source": [
        "# Solve the augmented matrix\n",
        "solution = np.linalg.solve(A, b)"
      ]
    },
    {
      "cell_type": "code",
      "execution_count": 13,
      "metadata": {
        "colab": {
          "base_uri": "https://localhost:8080/",
          "height": 0
        },
        "id": "a2QMYdA-WnRt",
        "outputId": "44369951-f188-472e-c3f0-75d180327237"
      },
      "outputs": [
        {
          "name": "stdout",
          "output_type": "stream",
          "text": [
            "x1 = -3.0\n",
            "x2 = 2.0\n",
            "x3 = 3.0\n"
          ]
        }
      ],
      "source": [
        "# Print the solutions\n",
        "x1, x2, x3 = solution\n",
        "print(\"x1 =\", x1)\n",
        "print(\"x2 =\", x2)\n",
        "print(\"x3 =\", x3)"
      ]
    }
  ],
  "metadata": {
    "colab": {
      "provenance": []
    },
    "kernelspec": {
      "display_name": "Python 3",
      "name": "python3"
    },
    "language_info": {
      "name": "python"
    }
  },
  "nbformat": 4,
  "nbformat_minor": 0
}
